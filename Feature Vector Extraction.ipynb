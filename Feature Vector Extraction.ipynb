{
 "cells": [
  {
   "cell_type": "code",
   "execution_count": 18,
   "metadata": {},
   "outputs": [
    {
     "ename": "SyntaxError",
     "evalue": "invalid syntax (<ipython-input-18-6cfcff84f8cd>, line 28)",
     "output_type": "error",
     "traceback": [
      "\u001b[0;36m  File \u001b[0;32m\"<ipython-input-18-6cfcff84f8cd>\"\u001b[0;36m, line \u001b[0;32m28\u001b[0m\n\u001b[0;31m    feat_ext76,1,8000)\u001b[0m\n\u001b[0m                     ^\u001b[0m\n\u001b[0;31mSyntaxError\u001b[0m\u001b[0;31m:\u001b[0m invalid syntax\n"
     ]
    }
   ],
   "source": [
    "%matplotlib inline\n",
    "from scipy import signal\n",
    "from scipy.io.wavfile import write,read\n",
    "import matplotlib.pyplot as plt\n",
    "import math\n",
    "import numpy as np\n",
    "import IPython\n",
    "from numpy import convolve\n",
    "from scipy.signal import hamming\n",
    "from scipy.ndimage.interpolation import shift\n",
    "from scipy.linalg import toeplitz,inv\n",
    "from scipy.fftpack import fft,fftshift,ifft\n",
    "\n",
    "\n",
    "def feat_ext(digit,num_wav,Fs):\n",
    "    \n",
    "    for samp_under_analysis in range(1,num_wav+1):\n",
    "        \n",
    "        filename=\"./Processed_Data/\"+str(digit)+\"/\"+str(samp_under_analysis)+\".wav\"\n",
    "        read_wav = read(filename)\n",
    "        inp=np.array(read_wav[1],dtype='float64')\n",
    "        plt.rcParams[\"figure.figsize\"] = (18,10)\n",
    "        plt.plot(inp,'blue')\n",
    "\n",
    "        t_analysis=0.001\n",
    "        num_samp=int(Fs*t_analysis)\n",
    "        num_feat=int(inp.size/num_samp)\n",
    "        for i in range(num_feat):\n",
    "            if(i==0):\n",
    "                st_ind=i*(num_feat)\n",
    "            end_ind=st_ind+num_samp\n",
    "            \n",
    "            frame=inp[st_ind:end:ind]\n",
    "            #----------------------------------\n",
    "            #Windowed DFT\n",
    "            zero_arr=np\n"
   ]
  },
  {
   "cell_type": "code",
   "execution_count": null,
   "metadata": {
    "collapsed": true
   },
   "outputs": [],
   "source": []
  }
 ],
 "metadata": {
  "kernelspec": {
   "display_name": "Python 3",
   "language": "python",
   "name": "python3"
  },
  "language_info": {
   "codemirror_mode": {
    "name": "ipython",
    "version": 3
   },
   "file_extension": ".py",
   "mimetype": "text/x-python",
   "name": "python",
   "nbconvert_exporter": "python",
   "pygments_lexer": "ipython3",
   "version": "3.4.3"
  }
 },
 "nbformat": 4,
 "nbformat_minor": 2
}
