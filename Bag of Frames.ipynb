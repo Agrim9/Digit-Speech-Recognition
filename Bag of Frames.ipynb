{
 "cells": [
  {
   "cell_type": "markdown",
   "metadata": {},
   "source": [
    "Develop a digit recognizer based on the “bag of frames” approach with a codebook for each digit created out of training set speakers’ data. Provide the achieved word error rate (WER) in terms of \\% words incorrectly detected in the N-fold CV testing using \n",
    "* training vectors directly, and \n",
    "* a VQ codebook for each digit with different numbers of clusters (e.g. 4, 8). \n",
    "Observe the common confusions, and comment on your results."
   ]
  },
  {
   "cell_type": "code",
   "execution_count": null,
   "metadata": {
    "collapsed": true
   },
   "outputs": [],
   "source": [
    "%matplotlib inline\n",
    "from scipy import signal\n",
    "from scipy.io.wavfile import write,read\n",
    "import matplotlib.pyplot as plt\n",
    "import math\n",
    "import numpy as np\n",
    "import IPython\n",
    "from numpy import convolve\n",
    "from scipy.signal import hamming\n",
    "from scipy.ndimage.interpolation import shift\n",
    "from scipy.linalg import toeplitz,inv\n",
    "from scipy.fftpack import fft,fftshift,ifft,dct\n",
    "\n",
    "\n",
    "# Read feature vectors from file\n"
   ]
  }
 ],
 "metadata": {
  "kernelspec": {
   "display_name": "Python 3",
   "language": "python",
   "name": "python3"
  },
  "language_info": {
   "codemirror_mode": {
    "name": "ipython",
    "version": 3
   },
   "file_extension": ".py",
   "mimetype": "text/x-python",
   "name": "python",
   "nbconvert_exporter": "python",
   "pygments_lexer": "ipython3",
   "version": "3.4.3"
  }
 },
 "nbformat": 4,
 "nbformat_minor": 2
}
